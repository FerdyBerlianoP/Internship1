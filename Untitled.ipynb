{
  "cells": [
    {
      "cell_type": "code",
      "source": [
        "!git clone https://github.com/FerdyBerlianoP/Internship1.git"
      ],
      "metadata": {
        "id": "kBgZ0pHvw03C"
      },
      "id": "kBgZ0pHvw03C",
      "execution_count": null,
      "outputs": []
    },
    {
      "cell_type": "code",
      "execution_count": null,
      "id": "a657e20f",
      "metadata": {
        "id": "a657e20f"
      },
      "outputs": [],
      "source": [
        "#basic library\n",
        "import pandas as pd\n",
        "import numpy as np\n",
        "\n",
        "#visualisasi\n",
        "import matplotlib.pyplot as plt\n",
        "%matplotlib inline\n",
        "import seaborn as sns\n",
        "import warnings\n",
        "warnings.filterwarnings('ignore')\n",
        "from datetime import datetime\n",
        "\n",
        "#Library preprocesing\n",
        "from sklearn.preprocessing import LabelEncoder\n",
        "from sklearn.model_selection import train_test_split\n",
        "import math\n",
        "from sklearn.preprocessing import StandardScaler\n",
        "\n",
        "#library pemodelan\n",
        "from sklearn.ensemble import AdaBoostRegressor\n",
        "from sklearn import metrics"
      ]
    },
    {
      "cell_type": "code",
      "execution_count": null,
      "id": "1ab8f6b9",
      "metadata": {
        "id": "1ab8f6b9"
      },
      "outputs": [],
      "source": [
        "df=pd.read_csv('/content/Internship1/datafix.csv', parse_dates=['TANGGAL'])\n",
        "df.set_index('TANGGAL', inplace=True)\n",
        "df"
      ]
    },
    {
      "cell_type": "code",
      "execution_count": null,
      "id": "0432521f",
      "metadata": {
        "id": "0432521f"
      },
      "outputs": [],
      "source": [
        "to_drop=['REMAJA TOTAL\\nVAKSIN DIBERIKAN','REMAJA\\nDOSIS 2','REMAJA\\nDOSIS 1','TAHAPAN 3\\nDOSIS 1',\n",
        "        'TAHAPAN 3\\nDOSIS 2','TAHAPAN 3 TOTAL\\nVAKSIN DIBERIKAN','TENAGA KESEHATAN\\nDOSIS 1','TENAGA KESEHATAN\\nDOSIS 2',\n",
        "        'TENAGA KESEHATAN TOTAL\\nVAKSIN DIBERIKAN','GOTONG ROYONG\\nDOSIS 1','GOTONG ROYONG\\nDOSIS 2',\n",
        "        'GOTONG ROYONG TOTAL\\nVAKSIN DIBERIKAN','LANSIA\\nDOSIS 1','LANSIA\\nDOSIS 2','LANSIA TOTAL \\nVAKSIN DIBERIKAN',\n",
        "        'PELAYAN PUBLIK\\nDOSIS 1','PELAYAN PUBLIK\\nDOSIS 2','PELAYAN PUBLIK TOTAL\\nVAKSIN DIBERIKAN']"
      ]
    },
    {
      "cell_type": "code",
      "execution_count": null,
      "id": "fa7bc1b4",
      "metadata": {
        "id": "fa7bc1b4"
      },
      "outputs": [],
      "source": [
        "df.drop(to_drop,axis=1,inplace=True)"
      ]
    },
    {
      "cell_type": "code",
      "source": [
        "df = df.rename(columns={'WILAYAH KOTA': 'KOTA', 'JUMLAH\\nDOSIS 1': 'DOSIS1', 'JUMLAH\\nDOSIS 2': 'DOSIS2', 'TOTAL VAKSIN\\nDIBERIKAN': 'TOTAL'})"
      ],
      "metadata": {
        "id": "J6AU3WgBGTFt"
      },
      "id": "J6AU3WgBGTFt",
      "execution_count": null,
      "outputs": []
    },
    {
      "cell_type": "code",
      "execution_count": null,
      "id": "900c914b",
      "metadata": {
        "id": "900c914b"
      },
      "outputs": [],
      "source": [
        "df"
      ]
    },
    {
      "cell_type": "code",
      "source": [
        "df.head(15)"
      ],
      "metadata": {
        "id": "ExiBsWXRmzcO"
      },
      "id": "ExiBsWXRmzcO",
      "execution_count": null,
      "outputs": []
    },
    {
      "cell_type": "code",
      "source": [
        "df.tail(15)"
      ],
      "metadata": {
        "id": "fU4HnC5xmzFD"
      },
      "id": "fU4HnC5xmzFD",
      "execution_count": null,
      "outputs": []
    },
    {
      "cell_type": "code",
      "source": [
        "df = df.interpolate(method='linear')\n",
        "df"
      ],
      "metadata": {
        "id": "emjcX_w52yGt"
      },
      "id": "emjcX_w52yGt",
      "execution_count": null,
      "outputs": []
    },
    {
      "cell_type": "code",
      "execution_count": null,
      "id": "4e0e5296",
      "metadata": {
        "id": "4e0e5296"
      },
      "outputs": [],
      "source": [
        "df.isna().sum()"
      ]
    },
    {
      "cell_type": "code",
      "execution_count": null,
      "id": "1c38dfaf",
      "metadata": {
        "id": "1c38dfaf"
      },
      "outputs": [],
      "source": [
        "df.dtypes"
      ]
    },
    {
      "cell_type": "code",
      "execution_count": null,
      "id": "19bf60e0",
      "metadata": {
        "id": "19bf60e0"
      },
      "outputs": [],
      "source": [
        "df.info()"
      ]
    },
    {
      "cell_type": "code",
      "execution_count": null,
      "id": "1df6460a",
      "metadata": {
        "id": "1df6460a"
      },
      "outputs": [],
      "source": [
        "df.describe()"
      ]
    },
    {
      "cell_type": "markdown",
      "id": "a7b0a2c1",
      "metadata": {
        "id": "a7b0a2c1"
      },
      "source": [
        "# Outliers"
      ]
    },
    {
      "cell_type": "code",
      "execution_count": null,
      "id": "d898c058",
      "metadata": {
        "id": "d898c058"
      },
      "outputs": [],
      "source": [
        "def detect_outliers(df, x):\n",
        "    Q1 = df[x].describe()['25%']\n",
        "    Q3 = df[x].describe()['75%']\n",
        "    IQR = Q3-Q1\n",
        "    return df[(df[x] < Q1-1.5*IQR) | (df[x] > Q3+1.5*IQR)]"
      ]
    },
    {
      "cell_type": "code",
      "source": [
        "plt.figure(figsize = (10, 5))\n",
        "sns.boxplot(df['DOSIS1'])\n",
        "plt.annotate('Outlier', (df['DOSIS1'].describe()['max'],0.1), xytext = (df['DOSIS1'].describe()['max'],0.3),\n",
        "             arrowprops = dict(facecolor = 'blue'), fontsize = 13 )\n",
        "IQR = df['DOSIS1'].describe()['75%'] - df['DOSIS1'].describe()['25%']"
      ],
      "metadata": {
        "id": "xBVOVkwo1mXo"
      },
      "id": "xBVOVkwo1mXo",
      "execution_count": null,
      "outputs": []
    },
    {
      "cell_type": "code",
      "source": [
        "q1 = df['DOSIS1'].quantile(0.25)\n",
        "q3 = df['DOSIS1'].quantile(0.75)\n",
        "iqr=q3-q1\n",
        "lower_limit= q1 - 1.5 * iqr\n",
        "upper_limit= q3 + 1.5 * iqr\n",
        "dt=df[(df['DOSIS1']<lower_limit)|(df['DOSIS1']<upper_limit)]\n",
        "dt"
      ],
      "metadata": {
        "id": "kIGLSny0GJ4f"
      },
      "id": "kIGLSny0GJ4f",
      "execution_count": null,
      "outputs": []
    },
    {
      "cell_type": "code",
      "source": [
        "detect_outliers(dt,'DOSIS1')"
      ],
      "metadata": {
        "id": "o_GMmb3iH38D"
      },
      "id": "o_GMmb3iH38D",
      "execution_count": null,
      "outputs": []
    },
    {
      "cell_type": "code",
      "source": [
        "q1 = dt['DOSIS1'].quantile(0.25)\n",
        "q3 = dt['DOSIS1'].quantile(0.75)\n",
        "iqr=q3-q1\n",
        "lower_limit= q1 - 1.5 * iqr\n",
        "upper_limit= q3 + 1.5 * iqr\n",
        "dt=dt[(dt['DOSIS1']<lower_limit)|(dt['DOSIS1']<upper_limit)]\n",
        "dt"
      ],
      "metadata": {
        "id": "O9JqcBs0IAPG"
      },
      "id": "O9JqcBs0IAPG",
      "execution_count": null,
      "outputs": []
    },
    {
      "cell_type": "code",
      "source": [
        "q1 = dt['DOSIS1'].quantile(0.25)\n",
        "q3 = dt['DOSIS1'].quantile(0.75)\n",
        "iqr=q3-q1\n",
        "lower_limit= q1 - 1.5 * iqr\n",
        "upper_limit= q3 + 1.5 * iqr\n",
        "dt=dt[(dt['DOSIS1']<lower_limit)|(dt['DOSIS1']<upper_limit)]\n",
        "dt"
      ],
      "metadata": {
        "id": "aZh9Ln18IaBR"
      },
      "id": "aZh9Ln18IaBR",
      "execution_count": null,
      "outputs": []
    },
    {
      "cell_type": "code",
      "source": [
        "q1 = dt['DOSIS1'].quantile(0.25)\n",
        "q3 = dt['DOSIS1'].quantile(0.75)\n",
        "iqr=q3-q1\n",
        "lower_limit= q1 - 1.5 * iqr\n",
        "upper_limit= q3 + 1.5 * iqr\n",
        "dt=dt[(dt['DOSIS1']<lower_limit)|(dt['DOSIS1']<upper_limit)]\n",
        "dt"
      ],
      "metadata": {
        "id": "7EQydf9GIgKh"
      },
      "id": "7EQydf9GIgKh",
      "execution_count": null,
      "outputs": []
    },
    {
      "cell_type": "code",
      "source": [
        "q1 = dt['DOSIS1'].quantile(0.25)\n",
        "q3 = dt['DOSIS1'].quantile(0.75)\n",
        "iqr=q3-q1\n",
        "lower_limit= q1 - 1.5 * iqr\n",
        "upper_limit= q3 + 1.5 * iqr\n",
        "dt=dt[(dt['DOSIS1']<lower_limit)|(dt['DOSIS1']<upper_limit)]\n",
        "dt"
      ],
      "metadata": {
        "id": "ZRvxvXodIqg6"
      },
      "id": "ZRvxvXodIqg6",
      "execution_count": null,
      "outputs": []
    },
    {
      "cell_type": "code",
      "source": [
        "q1 = dt['DOSIS1'].quantile(0.25)\n",
        "q3 = dt['DOSIS1'].quantile(0.75)\n",
        "iqr=q3-q1\n",
        "lower_limit= q1 - 1.5 * iqr\n",
        "upper_limit= q3 + 1.5 * iqr\n",
        "dt=dt[(dt['DOSIS1']<lower_limit)|(dt['DOSIS1']<upper_limit)]\n",
        "dt"
      ],
      "metadata": {
        "id": "9nZK1UGKIsfW"
      },
      "id": "9nZK1UGKIsfW",
      "execution_count": null,
      "outputs": []
    },
    {
      "cell_type": "code",
      "source": [
        "q1 = dt['DOSIS1'].quantile(0.25)\n",
        "q3 = dt['DOSIS1'].quantile(0.75)\n",
        "iqr=q3-q1\n",
        "lower_limit= q1 - 1.5 * iqr\n",
        "upper_limit= q3 + 1.5 * iqr\n",
        "dt=dt[(dt['DOSIS1']<lower_limit)|(dt['DOSIS1']<upper_limit)]\n",
        "dt"
      ],
      "metadata": {
        "id": "Ct0nWU97Iz1g"
      },
      "id": "Ct0nWU97Iz1g",
      "execution_count": null,
      "outputs": []
    },
    {
      "cell_type": "code",
      "source": [
        "detect_outliers(dt,'DOSIS1')"
      ],
      "metadata": {
        "id": "Q-o15j3wI8mH"
      },
      "id": "Q-o15j3wI8mH",
      "execution_count": null,
      "outputs": []
    },
    {
      "cell_type": "code",
      "source": [
        "plt.figure(figsize = (10, 5))\n",
        "sns.boxplot(dt['DOSIS1'])\n",
        "plt.annotate('Outlier', (dt['DOSIS1'].describe()['max'],0.1), xytext = (dt['DOSIS1'].describe()['max'],0.3),\n",
        "             arrowprops = dict(facecolor = 'blue'), fontsize = 13 )\n",
        "IQR = dt['DOSIS1'].describe()['75%'] - dt['DOSIS1'].describe()['25%']"
      ],
      "metadata": {
        "id": "pL0Eol0xJCQ5"
      },
      "id": "pL0Eol0xJCQ5",
      "execution_count": null,
      "outputs": []
    },
    {
      "cell_type": "code",
      "source": [
        "plt.figure(figsize = (10, 5))\n",
        "sns.boxplot(dt['DOSIS2'])\n",
        "plt.annotate('Outlier', (dt['DOSIS2'].describe()['max'],0.1), xytext = (dt['DOSIS2'].describe()['max'],0.3),\n",
        "             arrowprops = dict(facecolor = 'blue'), fontsize = 13 )\n",
        "IQR = dt['DOSIS2'].describe()['75%'] - dt['DOSIS2'].describe()['25%']"
      ],
      "metadata": {
        "id": "cTThV16lJL7h"
      },
      "id": "cTThV16lJL7h",
      "execution_count": null,
      "outputs": []
    },
    {
      "cell_type": "code",
      "source": [
        "q1 = dt['DOSIS2'].quantile(0.25)\n",
        "q3 = dt['DOSIS2'].quantile(0.75)\n",
        "iqr=q3-q1\n",
        "lower_limit= q1 - 1.5 * iqr\n",
        "upper_limit= q3 + 1.5 * iqr\n",
        "dt=dt[(dt['DOSIS2']<lower_limit)|(dt['DOSIS2']<upper_limit)]\n",
        "dt"
      ],
      "metadata": {
        "id": "fIH2nmGcJLsY"
      },
      "id": "fIH2nmGcJLsY",
      "execution_count": null,
      "outputs": []
    },
    {
      "cell_type": "code",
      "source": [
        "q1 = dt['DOSIS2'].quantile(0.25)\n",
        "q3 = dt['DOSIS2'].quantile(0.75)\n",
        "iqr=q3-q1\n",
        "lower_limit= q1 - 1.5 * iqr\n",
        "upper_limit= q3 + 1.5 * iqr\n",
        "dt=dt[(dt['DOSIS2']<lower_limit)|(dt['DOSIS2']<upper_limit)]\n",
        "dt"
      ],
      "metadata": {
        "id": "c9fh_-YrJLcd"
      },
      "id": "c9fh_-YrJLcd",
      "execution_count": null,
      "outputs": []
    },
    {
      "cell_type": "code",
      "source": [
        "q1 = dt['DOSIS2'].quantile(0.25)\n",
        "q3 = dt['DOSIS2'].quantile(0.75)\n",
        "iqr=q3-q1\n",
        "lower_limit= q1 - 1.5 * iqr\n",
        "upper_limit= q3 + 1.5 * iqr\n",
        "dt=dt[(dt['DOSIS2']<lower_limit)|(dt['DOSIS2']<upper_limit)]\n",
        "dt"
      ],
      "metadata": {
        "id": "vZZ3-vg1Jj7k"
      },
      "id": "vZZ3-vg1Jj7k",
      "execution_count": null,
      "outputs": []
    },
    {
      "cell_type": "code",
      "source": [
        "q1 = dt['DOSIS2'].quantile(0.25)\n",
        "q3 = dt['DOSIS2'].quantile(0.75)\n",
        "iqr=q3-q1\n",
        "lower_limit= q1 - 1.5 * iqr\n",
        "upper_limit= q3 + 1.5 * iqr\n",
        "dt=dt[(dt['DOSIS2']<lower_limit)|(dt['DOSIS2']<upper_limit)]\n",
        "dt"
      ],
      "metadata": {
        "id": "-3GSbiL0Jk_P"
      },
      "id": "-3GSbiL0Jk_P",
      "execution_count": null,
      "outputs": []
    },
    {
      "cell_type": "code",
      "source": [
        "q1 = dt['DOSIS2'].quantile(0.25)\n",
        "q3 = dt['DOSIS2'].quantile(0.75)\n",
        "iqr=q3-q1\n",
        "lower_limit= q1 - 1.5 * iqr\n",
        "upper_limit= q3 + 1.5 * iqr\n",
        "dt=dt[(dt['DOSIS2']<lower_limit)|(dt['DOSIS2']<upper_limit)]\n",
        "dt"
      ],
      "metadata": {
        "id": "hlOP-txjJkva"
      },
      "id": "hlOP-txjJkva",
      "execution_count": null,
      "outputs": []
    },
    {
      "cell_type": "code",
      "source": [
        "q1 = dt['DOSIS2'].quantile(0.25)\n",
        "q3 = dt['DOSIS2'].quantile(0.75)\n",
        "iqr=q3-q1\n",
        "lower_limit= q1 - 1.5 * iqr\n",
        "upper_limit= q3 + 1.5 * iqr\n",
        "dt=dt[(dt['DOSIS2']<lower_limit)|(dt['DOSIS2']<upper_limit)]\n",
        "dt"
      ],
      "metadata": {
        "id": "vcKJ3Y5eJkhq"
      },
      "id": "vcKJ3Y5eJkhq",
      "execution_count": null,
      "outputs": []
    },
    {
      "cell_type": "code",
      "source": [
        "detect_outliers(dt,'DOSIS2')"
      ],
      "metadata": {
        "id": "VJv6VPcxJxln"
      },
      "id": "VJv6VPcxJxln",
      "execution_count": null,
      "outputs": []
    },
    {
      "cell_type": "code",
      "source": [
        "plt.figure(figsize = (10, 5))\n",
        "sns.boxplot(dt['DOSIS2'])\n",
        "plt.annotate('Outlier', (dt['DOSIS2'].describe()['max'],0.1), xytext = (dt['DOSIS2'].describe()['max'],0.3),\n",
        "             arrowprops = dict(facecolor = 'blue'), fontsize = 13 )\n",
        "IQR = dt['DOSIS2'].describe()['75%'] - dt['DOSIS2'].describe()['25%']"
      ],
      "metadata": {
        "id": "4ETV0a12JxeE"
      },
      "id": "4ETV0a12JxeE",
      "execution_count": null,
      "outputs": []
    },
    {
      "cell_type": "code",
      "execution_count": null,
      "id": "5bf0df22",
      "metadata": {
        "id": "5bf0df22"
      },
      "outputs": [],
      "source": [
        "plt.figure(figsize = (10, 5))\n",
        "sns.boxplot(dt['TOTAL'])\n",
        "plt.annotate('Outlier', (dt['TOTAL'].describe()['max'],0.1), xytext = (dt['TOTAL'].describe()['max'],0.3),\n",
        "             arrowprops = dict(facecolor = 'blue'), fontsize = 13 )\n",
        "IQR = dt['TOTAL'].describe()['75%'] - dt['TOTAL'].describe()['25%']"
      ]
    },
    {
      "cell_type": "code",
      "execution_count": null,
      "id": "ebaddd2e",
      "metadata": {
        "id": "ebaddd2e"
      },
      "outputs": [],
      "source": [
        "q1 = dt['TOTAL'].quantile(0.25)\n",
        "q3 = dt['TOTAL'].quantile(0.75)\n",
        "q1,q3"
      ]
    },
    {
      "cell_type": "code",
      "execution_count": null,
      "id": "45b7fb55",
      "metadata": {
        "id": "45b7fb55"
      },
      "outputs": [],
      "source": [
        "iqr=q3-q1\n",
        "iqr"
      ]
    },
    {
      "cell_type": "code",
      "execution_count": null,
      "id": "8252c366",
      "metadata": {
        "id": "8252c366"
      },
      "outputs": [],
      "source": [
        "lower_limit= q1 - 1.5 * iqr\n",
        "upper_limit= q3 + 1.5 * iqr\n",
        "lower_limit, upper_limit"
      ]
    },
    {
      "cell_type": "code",
      "execution_count": null,
      "id": "f9276267",
      "metadata": {
        "id": "f9276267"
      },
      "outputs": [],
      "source": [
        "dt=dt[(dt['TOTAL']<lower_limit)|(dt['TOTAL']<upper_limit)]\n",
        "dt"
      ]
    },
    {
      "cell_type": "code",
      "execution_count": null,
      "id": "1ed2fcb8",
      "metadata": {
        "id": "1ed2fcb8"
      },
      "outputs": [],
      "source": [
        "detect_outliers(dt,'TOTAL')"
      ]
    },
    {
      "cell_type": "code",
      "execution_count": null,
      "id": "5f929abe",
      "metadata": {
        "id": "5f929abe"
      },
      "outputs": [],
      "source": [
        "q1 = dt['TOTAL'].quantile(0.25)\n",
        "q3 = dt['TOTAL'].quantile(0.75)\n",
        "iqr=q3-q1\n",
        "lower_limit= q1 - 1.5 * iqr\n",
        "upper_limit= q3 + 1.5 * iqr\n",
        "dt=dt[(dt['TOTAL']<lower_limit)|(dt['TOTAL']<upper_limit)]\n",
        "dt"
      ]
    },
    {
      "cell_type": "code",
      "execution_count": null,
      "id": "ad5193d9",
      "metadata": {
        "id": "ad5193d9"
      },
      "outputs": [],
      "source": [
        "detect_outliers(dt,'TOTAL')"
      ]
    },
    {
      "cell_type": "code",
      "source": [
        "plt.figure(figsize = (10, 5))\n",
        "sns.boxplot(dt['TOTAL'])\n",
        "plt.annotate('Outlier', (dt['TOTAL'].describe()['max'],0.1), xytext = (dt['TOTAL'].describe()['max'],0.3),\n",
        "             arrowprops = dict(facecolor = 'blue'), fontsize = 13 )\n",
        "IQR = dt['TOTAL'].describe()['75%'] - dt['TOTAL'].describe()['25%']"
      ],
      "metadata": {
        "id": "2v_PPnQF43tT"
      },
      "id": "2v_PPnQF43tT",
      "execution_count": null,
      "outputs": []
    },
    {
      "cell_type": "code",
      "execution_count": null,
      "id": "a3b9d8f0",
      "metadata": {
        "id": "a3b9d8f0"
      },
      "outputs": [],
      "source": [
        "plt.figure(figsize = (10, 5))\n",
        "sns.boxplot(dt['SASARAN'])\n",
        "plt.annotate('Outlier', (dt['SASARAN'].describe()['max'],0.1), xytext = (dt['SASARAN'].describe()['max'],0.3),\n",
        "             arrowprops = dict(facecolor = 'blue'), fontsize = 13 )\n",
        "IQR = dt['SASARAN'].describe()['75%'] - dt['SASARAN'].describe()['25%']"
      ]
    },
    {
      "cell_type": "code",
      "execution_count": null,
      "id": "d973a74e",
      "metadata": {
        "id": "d973a74e"
      },
      "outputs": [],
      "source": [
        "q1 = dt['SASARAN'].quantile(0.25)\n",
        "q3 = dt['SASARAN'].quantile(0.75)\n",
        "q1,q3"
      ]
    },
    {
      "cell_type": "code",
      "execution_count": null,
      "id": "5d28a164",
      "metadata": {
        "id": "5d28a164"
      },
      "outputs": [],
      "source": [
        "iqr=q3-q1\n",
        "iqr"
      ]
    },
    {
      "cell_type": "code",
      "execution_count": null,
      "id": "7891a6b5",
      "metadata": {
        "id": "7891a6b5"
      },
      "outputs": [],
      "source": [
        "lower_limit= q1 - 1.5 * iqr\n",
        "upper_limit= q3 + 1.5 * iqr\n",
        "lower_limit, upper_limit"
      ]
    },
    {
      "cell_type": "code",
      "execution_count": null,
      "id": "524bb755",
      "metadata": {
        "id": "524bb755"
      },
      "outputs": [],
      "source": [
        "dt=dt[(dt['SASARAN']<lower_limit)|(dt['SASARAN']<upper_limit)]\n",
        "dt"
      ]
    },
    {
      "cell_type": "code",
      "execution_count": null,
      "id": "90e785cd",
      "metadata": {
        "id": "90e785cd"
      },
      "outputs": [],
      "source": [
        "detect_outliers(dt,'SASARAN')"
      ]
    },
    {
      "cell_type": "code",
      "execution_count": null,
      "id": "2b79230f",
      "metadata": {
        "id": "2b79230f"
      },
      "outputs": [],
      "source": [
        "q1 = dt['SASARAN'].quantile(0.25)\n",
        "q3 = dt['SASARAN'].quantile(0.75)\n",
        "iqr=q3-q1\n",
        "lower_limit= q1 - 1.5 * iqr\n",
        "upper_limit= q3 + 1.5 * iqr\n",
        "dt=dt[(dt['SASARAN']<lower_limit)|(dt['SASARAN']<upper_limit)]\n",
        "dt"
      ]
    },
    {
      "cell_type": "code",
      "execution_count": null,
      "id": "46e6c78c",
      "metadata": {
        "id": "46e6c78c"
      },
      "outputs": [],
      "source": [
        "detect_outliers(dt,'SASARAN')"
      ]
    },
    {
      "cell_type": "code",
      "source": [
        "plt.figure(figsize = (10, 5))\n",
        "sns.boxplot(dt['SASARAN'])\n",
        "plt.annotate('Outlier', (dt['SASARAN'].describe()['max'],0.1), xytext = (dt['SASARAN'].describe()['max'],0.3),\n",
        "             arrowprops = dict(facecolor = 'blue'), fontsize = 13 )\n",
        "IQR = dt['SASARAN'].describe()['75%'] - dt['SASARAN'].describe()['25%']"
      ],
      "metadata": {
        "id": "mCJpJoiF6nbc"
      },
      "id": "mCJpJoiF6nbc",
      "execution_count": null,
      "outputs": []
    },
    {
      "cell_type": "code",
      "execution_count": null,
      "id": "f837eb56",
      "metadata": {
        "id": "f837eb56"
      },
      "outputs": [],
      "source": [
        "plt.figure(figsize = (10, 5))\n",
        "sns.boxplot(dt['BELUM VAKSIN'])\n",
        "plt.annotate('Outlier', (dt['BELUM VAKSIN'].describe()['max'],0.1), xytext = (dt['BELUM VAKSIN'].describe()['max'],0.3),\n",
        "             arrowprops = dict(facecolor = 'blue'), fontsize = 13 )\n",
        "IQR = dt['BELUM VAKSIN'].describe()['75%'] - dt['BELUM VAKSIN'].describe()['25%']"
      ]
    },
    {
      "cell_type": "code",
      "execution_count": null,
      "id": "181c1a43",
      "metadata": {
        "id": "181c1a43"
      },
      "outputs": [],
      "source": [
        "q1 = dt['BELUM VAKSIN'].quantile(0.25)\n",
        "q3 = dt['BELUM VAKSIN'].quantile(0.75)\n",
        "q1,q3"
      ]
    },
    {
      "cell_type": "code",
      "execution_count": null,
      "id": "7f07c768",
      "metadata": {
        "id": "7f07c768"
      },
      "outputs": [],
      "source": [
        "iqr=q3-q1\n",
        "iqr"
      ]
    },
    {
      "cell_type": "code",
      "execution_count": null,
      "id": "ac53987c",
      "metadata": {
        "id": "ac53987c"
      },
      "outputs": [],
      "source": [
        "lower_limit= q1 - 1.5 * iqr\n",
        "upper_limit= q3 + 1.5 * iqr\n",
        "lower_limit, upper_limit"
      ]
    },
    {
      "cell_type": "code",
      "execution_count": null,
      "id": "073cd517",
      "metadata": {
        "id": "073cd517"
      },
      "outputs": [],
      "source": [
        "dt=dt[(dt['BELUM VAKSIN']<lower_limit)|(dt['BELUM VAKSIN']<upper_limit)]\n",
        "dt"
      ]
    },
    {
      "cell_type": "code",
      "execution_count": null,
      "id": "e90fd820",
      "metadata": {
        "id": "e90fd820"
      },
      "outputs": [],
      "source": [
        "detect_outliers(dt,'BELUM VAKSIN')"
      ]
    },
    {
      "cell_type": "code",
      "execution_count": null,
      "id": "7d6045cc",
      "metadata": {
        "id": "7d6045cc"
      },
      "outputs": [],
      "source": [
        "q1 = dt['BELUM VAKSIN'].quantile(0.25)\n",
        "q3 = dt['BELUM VAKSIN'].quantile(0.75)\n",
        "q1,q3"
      ]
    },
    {
      "cell_type": "code",
      "execution_count": null,
      "id": "31d61d36",
      "metadata": {
        "id": "31d61d36"
      },
      "outputs": [],
      "source": [
        "iqr=q3-q1\n",
        "iqr"
      ]
    },
    {
      "cell_type": "code",
      "execution_count": null,
      "id": "682d82fe",
      "metadata": {
        "id": "682d82fe"
      },
      "outputs": [],
      "source": [
        "lower_limit= q1 - 1.5 * iqr\n",
        "upper_limit= q3 + 1.5 * iqr\n",
        "lower_limit, upper_limit"
      ]
    },
    {
      "cell_type": "code",
      "execution_count": null,
      "id": "f80ab79b",
      "metadata": {
        "id": "f80ab79b"
      },
      "outputs": [],
      "source": [
        "dt=dt[(dt['BELUM VAKSIN']<lower_limit)|(dt['BELUM VAKSIN']<upper_limit)]\n",
        "dt"
      ]
    },
    {
      "cell_type": "code",
      "execution_count": null,
      "id": "7a7898da",
      "metadata": {
        "id": "7a7898da"
      },
      "outputs": [],
      "source": [
        "detect_outliers(dt,'BELUM VAKSIN')"
      ]
    },
    {
      "cell_type": "code",
      "execution_count": null,
      "id": "eb99d309",
      "metadata": {
        "id": "eb99d309"
      },
      "outputs": [],
      "source": [
        "q1 = dt['BELUM VAKSIN'].quantile(0.25)\n",
        "q3 = dt['BELUM VAKSIN'].quantile(0.75)\n",
        "q1,q3"
      ]
    },
    {
      "cell_type": "code",
      "execution_count": null,
      "id": "be56a066",
      "metadata": {
        "id": "be56a066"
      },
      "outputs": [],
      "source": [
        "iqr=q3-q1\n",
        "iqr"
      ]
    },
    {
      "cell_type": "code",
      "execution_count": null,
      "id": "35599f20",
      "metadata": {
        "id": "35599f20"
      },
      "outputs": [],
      "source": [
        "lower_limit= q1 - 1.5 * iqr\n",
        "upper_limit= q3 + 1.5 * iqr\n",
        "lower_limit, upper_limit"
      ]
    },
    {
      "cell_type": "code",
      "execution_count": null,
      "id": "663b5ca3",
      "metadata": {
        "id": "663b5ca3"
      },
      "outputs": [],
      "source": [
        "dt=dt[(dt['BELUM VAKSIN']<lower_limit)|(dt['BELUM VAKSIN']<upper_limit)]\n",
        "dt"
      ]
    },
    {
      "cell_type": "code",
      "execution_count": null,
      "id": "26a927d5",
      "metadata": {
        "scrolled": false,
        "id": "26a927d5"
      },
      "outputs": [],
      "source": [
        "detect_outliers(dt,'BELUM VAKSIN')"
      ]
    },
    {
      "cell_type": "code",
      "execution_count": null,
      "id": "f540455c",
      "metadata": {
        "id": "f540455c"
      },
      "outputs": [],
      "source": [
        "q1 = dt['BELUM VAKSIN'].quantile(0.25)\n",
        "q3 = dt['BELUM VAKSIN'].quantile(0.75)\n",
        "q1,q3"
      ]
    },
    {
      "cell_type": "code",
      "execution_count": null,
      "id": "bc833515",
      "metadata": {
        "id": "bc833515"
      },
      "outputs": [],
      "source": [
        "iqr=q3-q1\n",
        "iqr"
      ]
    },
    {
      "cell_type": "code",
      "execution_count": null,
      "id": "23bc454d",
      "metadata": {
        "id": "23bc454d"
      },
      "outputs": [],
      "source": [
        "lower_limit= q1 - 1.5 * iqr\n",
        "upper_limit= q3 + 1.5 * iqr\n",
        "lower_limit, upper_limit"
      ]
    },
    {
      "cell_type": "code",
      "execution_count": null,
      "id": "6a5cc84d",
      "metadata": {
        "id": "6a5cc84d"
      },
      "outputs": [],
      "source": [
        "dt=dt[(dt['BELUM VAKSIN']<lower_limit)|(dt['BELUM VAKSIN']<upper_limit)]\n",
        "dt"
      ]
    },
    {
      "cell_type": "code",
      "execution_count": null,
      "id": "f335eaec",
      "metadata": {
        "id": "f335eaec"
      },
      "outputs": [],
      "source": [
        "detect_outliers(dt,'BELUM VAKSIN')"
      ]
    },
    {
      "cell_type": "code",
      "execution_count": null,
      "id": "e0f1e175",
      "metadata": {
        "id": "e0f1e175"
      },
      "outputs": [],
      "source": [
        "q1 = dt['BELUM VAKSIN'].quantile(0.25)\n",
        "q3 = dt['BELUM VAKSIN'].quantile(0.75)\n",
        "q1,q3"
      ]
    },
    {
      "cell_type": "code",
      "execution_count": null,
      "id": "1886e6e0",
      "metadata": {
        "id": "1886e6e0"
      },
      "outputs": [],
      "source": [
        "iqr=q3-q1\n",
        "iqr"
      ]
    },
    {
      "cell_type": "code",
      "execution_count": null,
      "id": "ba044a5d",
      "metadata": {
        "id": "ba044a5d"
      },
      "outputs": [],
      "source": [
        "lower_limit= q1 - 1.5 * iqr\n",
        "upper_limit= q3 + 1.5 * iqr\n",
        "lower_limit, upper_limit"
      ]
    },
    {
      "cell_type": "code",
      "execution_count": null,
      "id": "8fab3579",
      "metadata": {
        "id": "8fab3579"
      },
      "outputs": [],
      "source": [
        "dt=dt[(dt['BELUM VAKSIN']<lower_limit)|(dt['BELUM VAKSIN']<upper_limit)]\n",
        "dt"
      ]
    },
    {
      "cell_type": "code",
      "execution_count": null,
      "id": "98fc7120",
      "metadata": {
        "id": "98fc7120"
      },
      "outputs": [],
      "source": [
        "detect_outliers(dt,'BELUM VAKSIN')"
      ]
    },
    {
      "cell_type": "code",
      "execution_count": null,
      "id": "040615af",
      "metadata": {
        "id": "040615af"
      },
      "outputs": [],
      "source": [
        "q1 = dt['BELUM VAKSIN'].quantile(0.25)\n",
        "q3 = dt['BELUM VAKSIN'].quantile(0.75)\n",
        "q1,q3"
      ]
    },
    {
      "cell_type": "code",
      "execution_count": null,
      "id": "032148f4",
      "metadata": {
        "id": "032148f4"
      },
      "outputs": [],
      "source": [
        "iqr=q3-q1\n",
        "iqr"
      ]
    },
    {
      "cell_type": "code",
      "execution_count": null,
      "id": "f9d83517",
      "metadata": {
        "id": "f9d83517"
      },
      "outputs": [],
      "source": [
        "lower_limit= q1 - 1.5 * iqr\n",
        "upper_limit= q3 + 1.5 * iqr\n",
        "lower_limit, upper_limit"
      ]
    },
    {
      "cell_type": "code",
      "execution_count": null,
      "id": "8c3d9eb5",
      "metadata": {
        "id": "8c3d9eb5"
      },
      "outputs": [],
      "source": [
        "dt=dt[(dt['BELUM VAKSIN']<lower_limit)|(dt['BELUM VAKSIN']<upper_limit)]\n",
        "dt"
      ]
    },
    {
      "cell_type": "code",
      "execution_count": null,
      "id": "2e94c487",
      "metadata": {
        "id": "2e94c487"
      },
      "outputs": [],
      "source": [
        "detect_outliers(dt,'BELUM VAKSIN')"
      ]
    },
    {
      "cell_type": "code",
      "source": [
        "plt.figure(figsize = (10, 5))\n",
        "sns.boxplot(dt['BELUM VAKSIN'])\n",
        "plt.annotate('Outlier', (dt['BELUM VAKSIN'].describe()['max'],0.1), xytext = (dt['BELUM VAKSIN'].describe()['max'],0.3),\n",
        "             arrowprops = dict(facecolor = 'blue'), fontsize = 13 )\n",
        "IQR = dt['BELUM VAKSIN'].describe()['75%'] - dt['BELUM VAKSIN'].describe()['25%']"
      ],
      "metadata": {
        "id": "zGVI2NQNs8Q5"
      },
      "id": "zGVI2NQNs8Q5",
      "execution_count": null,
      "outputs": []
    },
    {
      "cell_type": "code",
      "execution_count": null,
      "id": "a1779612",
      "metadata": {
        "id": "a1779612"
      },
      "outputs": [],
      "source": [
        "dt.info()"
      ]
    },
    {
      "cell_type": "code",
      "source": [
        "plt.figure(figsize=(16,10), dpi= 80)\n",
        "plt.plot('DOSIS1', data=dt, color='tab:red')"
      ],
      "metadata": {
        "id": "PatF0snW8CTP"
      },
      "id": "PatF0snW8CTP",
      "execution_count": null,
      "outputs": []
    },
    {
      "cell_type": "code",
      "source": [
        "plt.figure(figsize=(10,6))\n",
        "sns.barplot(x='DOSIS1', y=\"KOTA\", data=dt)"
      ],
      "metadata": {
        "id": "sOt3Xm4o--OS"
      },
      "id": "sOt3Xm4o--OS",
      "execution_count": null,
      "outputs": []
    },
    {
      "cell_type": "code",
      "source": [
        "fig=plt.figure(figsize=(16,10))\n",
        "#plt.barh(dt['KECAMATAN'],dt['DOSIS1'])\n",
        "sns.barplot(x='DOSIS1', y=\"KECAMATAN\", data=dt)\n",
        "plt.show()\n",
        "plt.savefig(\"vis_kecamatan.png\")"
      ],
      "metadata": {
        "id": "cHX5B7I3EBIW"
      },
      "id": "cHX5B7I3EBIW",
      "execution_count": null,
      "outputs": []
    },
    {
      "cell_type": "code",
      "execution_count": null,
      "id": "4500cae1",
      "metadata": {
        "id": "4500cae1"
      },
      "outputs": [],
      "source": [
        "plt.figure(figsize=(10,10))\n",
        "sns.heatmap(dt.corr(),annot=True)\n",
        "plt.show()"
      ]
    },
    {
      "cell_type": "markdown",
      "id": "fe79f2d1",
      "metadata": {
        "id": "fe79f2d1"
      },
      "source": [
        "# Train test split"
      ]
    },
    {
      "cell_type": "code",
      "source": [
        "X= dt.drop('DOSIS1', axis=1)\n",
        "y= dt.DOSIS1"
      ],
      "metadata": {
        "id": "u9v6S51rfQSu"
      },
      "id": "u9v6S51rfQSu",
      "execution_count": null,
      "outputs": []
    },
    {
      "cell_type": "code",
      "source": [
        "X=X.apply(LabelEncoder().fit_transform)"
      ],
      "metadata": {
        "id": "E10JO8OYan14"
      },
      "id": "E10JO8OYan14",
      "execution_count": null,
      "outputs": []
    },
    {
      "cell_type": "code",
      "execution_count": null,
      "id": "f2b736eb",
      "metadata": {
        "id": "f2b736eb"
      },
      "outputs": [],
      "source": [
        "X_train,X_test,y_train,y_test=train_test_split(X,y,random_state=100,test_size=.3)"
      ]
    },
    {
      "cell_type": "code",
      "execution_count": null,
      "id": "1b7dda79",
      "metadata": {
        "id": "1b7dda79"
      },
      "outputs": [],
      "source": [
        "X_train.shape"
      ]
    },
    {
      "cell_type": "code",
      "execution_count": null,
      "id": "83f6a7db",
      "metadata": {
        "id": "83f6a7db"
      },
      "outputs": [],
      "source": [
        "X_test.shape"
      ]
    },
    {
      "cell_type": "code",
      "source": [
        "y_train.shape"
      ],
      "metadata": {
        "id": "XMyQDfrzHPu5"
      },
      "id": "XMyQDfrzHPu5",
      "execution_count": null,
      "outputs": []
    },
    {
      "cell_type": "code",
      "source": [
        "y_test.shape"
      ],
      "metadata": {
        "id": "XWeFMPufHT6n"
      },
      "id": "XWeFMPufHT6n",
      "execution_count": null,
      "outputs": []
    },
    {
      "cell_type": "code",
      "execution_count": null,
      "id": "548f9ee7",
      "metadata": {
        "id": "548f9ee7"
      },
      "outputs": [],
      "source": [
        "X_test"
      ]
    },
    {
      "cell_type": "code",
      "source": [
        "X_train"
      ],
      "metadata": {
        "id": "Ma5UiPGwZgPA"
      },
      "id": "Ma5UiPGwZgPA",
      "execution_count": null,
      "outputs": []
    },
    {
      "cell_type": "code",
      "source": [
        "y_train"
      ],
      "metadata": {
        "id": "T_KhN2_YZm_E"
      },
      "id": "T_KhN2_YZm_E",
      "execution_count": null,
      "outputs": []
    },
    {
      "cell_type": "code",
      "source": [
        "y_test"
      ],
      "metadata": {
        "id": "LF1ZQCWJdVHI"
      },
      "id": "LF1ZQCWJdVHI",
      "execution_count": null,
      "outputs": []
    },
    {
      "cell_type": "code",
      "source": [
        "print('Dimensi training set {}'.format(X_train.shape))\n",
        "print('Dimensi test set {}'.format(X_test.shape))"
      ],
      "metadata": {
        "id": "4qWFLAJZikiG"
      },
      "id": "4qWFLAJZikiG",
      "execution_count": null,
      "outputs": []
    },
    {
      "cell_type": "code",
      "source": [
        "X_train_short = X_train[0:5]\n",
        "y_train_short = y_train[0:5]"
      ],
      "metadata": {
        "id": "EwACMTo8ma4q"
      },
      "id": "EwACMTo8ma4q",
      "execution_count": null,
      "outputs": []
    },
    {
      "cell_type": "code",
      "execution_count": null,
      "id": "faf2a8f6",
      "metadata": {
        "id": "faf2a8f6"
      },
      "outputs": [],
      "source": [
        "standardscaler=StandardScaler()\n",
        "X_train=standardscaler.fit_transform(X_train)\n",
        "X_test=standardscaler.transform(X_test)"
      ]
    },
    {
      "cell_type": "code",
      "source": [
        "#plt.figure(figsize=(10,8))\n",
        "#plt.scatter(X_train_short[:,0],y_train_short,color='blue')\n",
        "#plt.plot(X_train_short[:,0],y_train_short,color='r')\n",
        "#plt.show()"
      ],
      "metadata": {
        "id": "lVamTxx1p60w"
      },
      "id": "lVamTxx1p60w",
      "execution_count": null,
      "outputs": []
    },
    {
      "cell_type": "markdown",
      "source": [
        "# Modelling"
      ],
      "metadata": {
        "id": "qfIE5uAYnG7-"
      },
      "id": "qfIE5uAYnG7-"
    },
    {
      "cell_type": "code",
      "source": [
        "model=AdaBoostRegressor()\n",
        "model.fit(X_train,y_train)"
      ],
      "metadata": {
        "id": "8aJ0K8D0qDqq"
      },
      "id": "8aJ0K8D0qDqq",
      "execution_count": null,
      "outputs": []
    },
    {
      "cell_type": "code",
      "source": [
        "model.score(X_test,y_test)"
      ],
      "metadata": {
        "id": "h0y14PMhqKEh"
      },
      "id": "h0y14PMhqKEh",
      "execution_count": null,
      "outputs": []
    },
    {
      "cell_type": "code",
      "source": [
        "model.score(X_train,y_train)"
      ],
      "metadata": {
        "id": "0a8bXyuAz_AV"
      },
      "id": "0a8bXyuAz_AV",
      "execution_count": null,
      "outputs": []
    },
    {
      "cell_type": "code",
      "source": [
        "print('Correlation: ', math.sqrt(model.score(X_test,y_test)))"
      ],
      "metadata": {
        "id": "J3yqe1vV_yz5"
      },
      "id": "J3yqe1vV_yz5",
      "execution_count": null,
      "outputs": []
    },
    {
      "cell_type": "code",
      "source": [
        "print('Correlation: ', math.sqrt(model.score(X_train,y_train)))"
      ],
      "metadata": {
        "id": "T41NefVR0Exa"
      },
      "id": "T41NefVR0Exa",
      "execution_count": null,
      "outputs": []
    },
    {
      "cell_type": "code",
      "source": [
        "y_prediksi = model.predict(X_test)\n",
        "y_prediksi = np.rint(y_prediksi)\n",
        "y_prediksi = y_prediksi.astype(int)"
      ],
      "metadata": {
        "id": "42As1bMFBIN1"
      },
      "id": "42As1bMFBIN1",
      "execution_count": null,
      "outputs": []
    },
    {
      "cell_type": "markdown",
      "source": [
        "# Metrics"
      ],
      "metadata": {
        "id": "JclrMy_EnODb"
      },
      "id": "JclrMy_EnODb"
    },
    {
      "cell_type": "code",
      "source": [
        "print('Mean Absolute Error (MAE):', metrics.mean_absolute_error(y_test,y_prediksi))\n",
        "print('Root Mean Squared Error (RMSE):', np.sqrt(metrics.mean_squared_error(y_test,y_prediksi))) "
      ],
      "metadata": {
        "id": "lb93_Umsl7CT"
      },
      "id": "lb93_Umsl7CT",
      "execution_count": null,
      "outputs": []
    },
    {
      "cell_type": "markdown",
      "source": [
        "#REVISI"
      ],
      "metadata": {
        "id": "bLAdi6PgKGyG"
      },
      "id": "bLAdi6PgKGyG"
    },
    {
      "cell_type": "code",
      "source": [
        "persen = dt\n",
        "to_persen=['BELUM VAKSIN']\n",
        "persen.drop(to_persen, axis=1, inplace=True)\n",
        "persen"
      ],
      "metadata": {
        "id": "aXGaFKcPKE1O"
      },
      "id": "aXGaFKcPKE1O",
      "execution_count": null,
      "outputs": []
    },
    {
      "cell_type": "code",
      "source": [
        "persen['Persentase_DOSIS1'] = persen['DOSIS1']*100 / persen['SASARAN']\n",
        "persen['Persentase_DOSIS2'] = persen['DOSIS2']*100 / persen['SASARAN']\n",
        "persen['Persentase_TotalDosis'] = persen['TOTAL']*100 / persen['SASARAN']\n",
        "persen"
      ],
      "metadata": {
        "id": "9npSsu703XyE"
      },
      "id": "9npSsu703XyE",
      "execution_count": null,
      "outputs": []
    },
    {
      "cell_type": "code",
      "source": [
        "persen = persen.groupby(['KOTA']).count()"
      ],
      "metadata": {
        "id": "E1TzbOOUUadm"
      },
      "id": "E1TzbOOUUadm",
      "execution_count": null,
      "outputs": []
    },
    {
      "cell_type": "code",
      "source": [
        "persen"
      ],
      "metadata": {
        "id": "hBaVb3Pjhvd0"
      },
      "id": "hBaVb3Pjhvd0",
      "execution_count": null,
      "outputs": []
    },
    {
      "cell_type": "code",
      "source": [
        ""
      ],
      "metadata": {
        "id": "gqyNGbBshyQv"
      },
      "id": "gqyNGbBshyQv",
      "execution_count": null,
      "outputs": []
    }
  ],
  "metadata": {
    "kernelspec": {
      "display_name": "Python 3 (ipykernel)",
      "language": "python",
      "name": "python3"
    },
    "language_info": {
      "codemirror_mode": {
        "name": "ipython",
        "version": 3
      },
      "file_extension": ".py",
      "mimetype": "text/x-python",
      "name": "python",
      "nbconvert_exporter": "python",
      "pygments_lexer": "ipython3",
      "version": "3.7.3"
    },
    "colab": {
      "name": "Untitled.ipynb",
      "provenance": []
    }
  },
  "nbformat": 4,
  "nbformat_minor": 5
}