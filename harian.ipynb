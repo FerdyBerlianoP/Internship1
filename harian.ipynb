{
  "nbformat": 4,
  "nbformat_minor": 0,
  "metadata": {
    "colab": {
      "name": "harian.ipynb",
      "provenance": [],
      "authorship_tag": "ABX9TyObRBLqmq+yjh5YqszL7oMg"
    },
    "kernelspec": {
      "name": "python3",
      "display_name": "Python 3"
    },
    "language_info": {
      "name": "python"
    }
  },
  "cells": [
    {
      "cell_type": "code",
      "execution_count": 1,
      "metadata": {
        "colab": {
          "base_uri": "https://localhost:8080/"
        },
        "id": "IwkG51FXfN8M",
        "outputId": "700637be-1d8f-4330-a793-b5cf7d4a29e9"
      },
      "outputs": [
        {
          "output_type": "stream",
          "name": "stdout",
          "text": [
            "Cloning into 'Internship1'...\n",
            "remote: Enumerating objects: 208, done.\u001b[K\n",
            "remote: Counting objects: 100% (208/208), done.\u001b[K\n",
            "remote: Compressing objects: 100% (201/201), done.\u001b[K\n",
            "remote: Total 208 (delta 27), reused 172 (delta 6), pack-reused 0\u001b[K\n",
            "Receiving objects: 100% (208/208), 19.35 MiB | 13.48 MiB/s, done.\n",
            "Resolving deltas: 100% (27/27), done.\n"
          ]
        }
      ],
      "source": [
        "!git clone https://github.com/FerdyBerlianoP/Internship1.git"
      ]
    }
  ]
}