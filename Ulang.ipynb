{
  "cells": [
    {
      "cell_type": "code",
      "source": [
        "!git clone https://github.com/FerdyBerlianoP/Internship1.git"
      ],
      "metadata": {
        "id": "SHLk16yczWg5",
        "outputId": "2d9f146e-f905-4074-f33a-2c2481550417",
        "colab": {
          "base_uri": "https://localhost:8080/"
        }
      },
      "id": "SHLk16yczWg5",
      "execution_count": 1,
      "outputs": [
        {
          "output_type": "stream",
          "name": "stdout",
          "text": [
            "fatal: destination path 'Internship1' already exists and is not an empty directory.\n"
          ]
        }
      ]
    },
    {
      "cell_type": "code",
      "execution_count": 137,
      "id": "21b1f685",
      "metadata": {
        "id": "21b1f685"
      },
      "outputs": [],
      "source": [
        "import pandas as pd\n",
        "import numpy as np\n",
        "import matplotlib.pyplot as plt\n",
        "%matplotlib inline\n",
        "import seaborn as sns\n",
        "import warnings\n",
        "warnings.filterwarnings('ignore')\n",
        "from datetime import datetime\n",
        "from sklearn.preprocessing import LabelEncoder\n",
        "from sklearn.model_selection import train_test_split\n",
        "import math\n",
        "from sklearn.preprocessing import StandardScaler\n",
        "from sklearn.ensemble import AdaBoostRegressor\n",
        "from sklearn import metrics"
      ]
    },
    {
      "cell_type": "code",
      "execution_count": 203,
      "id": "f875910e",
      "metadata": {
        "id": "f875910e",
        "outputId": "057177c6-9591-4518-b028-77cdf62d428e",
        "colab": {
          "base_uri": "https://localhost:8080/",
          "height": 424
        }
      },
      "outputs": [
        {
          "output_type": "execute_result",
          "data": {
            "text/html": [
              "\n",
              "  <div id=\"df-74c456d3-6e2b-440a-b1e2-272955457a26\">\n",
              "    <div class=\"colab-df-container\">\n",
              "      <div>\n",
              "<style scoped>\n",
              "    .dataframe tbody tr th:only-of-type {\n",
              "        vertical-align: middle;\n",
              "    }\n",
              "\n",
              "    .dataframe tbody tr th {\n",
              "        vertical-align: top;\n",
              "    }\n",
              "\n",
              "    .dataframe thead th {\n",
              "        text-align: right;\n",
              "    }\n",
              "</style>\n",
              "<table border=\"1\" class=\"dataframe\">\n",
              "  <thead>\n",
              "    <tr style=\"text-align: right;\">\n",
              "      <th></th>\n",
              "      <th>Tanggal</th>\n",
              "      <th>Target</th>\n",
              "      <th>Vaksinasi1</th>\n",
              "      <th>Vaksinasi2</th>\n",
              "    </tr>\n",
              "  </thead>\n",
              "  <tbody>\n",
              "    <tr>\n",
              "      <th>118</th>\n",
              "      <td>2021-07-01</td>\n",
              "      <td>8815157</td>\n",
              "      <td>4498251</td>\n",
              "      <td>1924850</td>\n",
              "    </tr>\n",
              "    <tr>\n",
              "      <th>119</th>\n",
              "      <td>2021-07-02</td>\n",
              "      <td>8815157</td>\n",
              "      <td>4604297</td>\n",
              "      <td>1929114</td>\n",
              "    </tr>\n",
              "    <tr>\n",
              "      <th>120</th>\n",
              "      <td>2021-07-03</td>\n",
              "      <td>8815157</td>\n",
              "      <td>4682012</td>\n",
              "      <td>1931805</td>\n",
              "    </tr>\n",
              "    <tr>\n",
              "      <th>121</th>\n",
              "      <td>2021-07-04</td>\n",
              "      <td>8815157</td>\n",
              "      <td>4800657</td>\n",
              "      <td>1935269</td>\n",
              "    </tr>\n",
              "    <tr>\n",
              "      <th>122</th>\n",
              "      <td>2021-07-05</td>\n",
              "      <td>8815157</td>\n",
              "      <td>4827994</td>\n",
              "      <td>1935857</td>\n",
              "    </tr>\n",
              "    <tr>\n",
              "      <th>...</th>\n",
              "      <td>...</td>\n",
              "      <td>...</td>\n",
              "      <td>...</td>\n",
              "      <td>...</td>\n",
              "    </tr>\n",
              "    <tr>\n",
              "      <th>266</th>\n",
              "      <td>2021-11-26</td>\n",
              "      <td>8941211</td>\n",
              "      <td>11084245</td>\n",
              "      <td>8957716</td>\n",
              "    </tr>\n",
              "    <tr>\n",
              "      <th>267</th>\n",
              "      <td>2021-11-27</td>\n",
              "      <td>8941211</td>\n",
              "      <td>11089856</td>\n",
              "      <td>8967417</td>\n",
              "    </tr>\n",
              "    <tr>\n",
              "      <th>268</th>\n",
              "      <td>2021-11-28</td>\n",
              "      <td>8941211</td>\n",
              "      <td>11091875</td>\n",
              "      <td>8987124</td>\n",
              "    </tr>\n",
              "    <tr>\n",
              "      <th>269</th>\n",
              "      <td>2021-11-29</td>\n",
              "      <td>8941211</td>\n",
              "      <td>11093387</td>\n",
              "      <td>8992130</td>\n",
              "    </tr>\n",
              "    <tr>\n",
              "      <th>270</th>\n",
              "      <td>2021-11-30</td>\n",
              "      <td>8941211</td>\n",
              "      <td>11100361</td>\n",
              "      <td>9014917</td>\n",
              "    </tr>\n",
              "  </tbody>\n",
              "</table>\n",
              "<p>153 rows × 4 columns</p>\n",
              "</div>\n",
              "      <button class=\"colab-df-convert\" onclick=\"convertToInteractive('df-74c456d3-6e2b-440a-b1e2-272955457a26')\"\n",
              "              title=\"Convert this dataframe to an interactive table.\"\n",
              "              style=\"display:none;\">\n",
              "        \n",
              "  <svg xmlns=\"http://www.w3.org/2000/svg\" height=\"24px\"viewBox=\"0 0 24 24\"\n",
              "       width=\"24px\">\n",
              "    <path d=\"M0 0h24v24H0V0z\" fill=\"none\"/>\n",
              "    <path d=\"M18.56 5.44l.94 2.06.94-2.06 2.06-.94-2.06-.94-.94-2.06-.94 2.06-2.06.94zm-11 1L8.5 8.5l.94-2.06 2.06-.94-2.06-.94L8.5 2.5l-.94 2.06-2.06.94zm10 10l.94 2.06.94-2.06 2.06-.94-2.06-.94-.94-2.06-.94 2.06-2.06.94z\"/><path d=\"M17.41 7.96l-1.37-1.37c-.4-.4-.92-.59-1.43-.59-.52 0-1.04.2-1.43.59L10.3 9.45l-7.72 7.72c-.78.78-.78 2.05 0 2.83L4 21.41c.39.39.9.59 1.41.59.51 0 1.02-.2 1.41-.59l7.78-7.78 2.81-2.81c.8-.78.8-2.07 0-2.86zM5.41 20L4 18.59l7.72-7.72 1.47 1.35L5.41 20z\"/>\n",
              "  </svg>\n",
              "      </button>\n",
              "      \n",
              "  <style>\n",
              "    .colab-df-container {\n",
              "      display:flex;\n",
              "      flex-wrap:wrap;\n",
              "      gap: 12px;\n",
              "    }\n",
              "\n",
              "    .colab-df-convert {\n",
              "      background-color: #E8F0FE;\n",
              "      border: none;\n",
              "      border-radius: 50%;\n",
              "      cursor: pointer;\n",
              "      display: none;\n",
              "      fill: #1967D2;\n",
              "      height: 32px;\n",
              "      padding: 0 0 0 0;\n",
              "      width: 32px;\n",
              "    }\n",
              "\n",
              "    .colab-df-convert:hover {\n",
              "      background-color: #E2EBFA;\n",
              "      box-shadow: 0px 1px 2px rgba(60, 64, 67, 0.3), 0px 1px 3px 1px rgba(60, 64, 67, 0.15);\n",
              "      fill: #174EA6;\n",
              "    }\n",
              "\n",
              "    [theme=dark] .colab-df-convert {\n",
              "      background-color: #3B4455;\n",
              "      fill: #D2E3FC;\n",
              "    }\n",
              "\n",
              "    [theme=dark] .colab-df-convert:hover {\n",
              "      background-color: #434B5C;\n",
              "      box-shadow: 0px 1px 3px 1px rgba(0, 0, 0, 0.15);\n",
              "      filter: drop-shadow(0px 1px 2px rgba(0, 0, 0, 0.3));\n",
              "      fill: #FFFFFF;\n",
              "    }\n",
              "  </style>\n",
              "\n",
              "      <script>\n",
              "        const buttonEl =\n",
              "          document.querySelector('#df-74c456d3-6e2b-440a-b1e2-272955457a26 button.colab-df-convert');\n",
              "        buttonEl.style.display =\n",
              "          google.colab.kernel.accessAllowed ? 'block' : 'none';\n",
              "\n",
              "        async function convertToInteractive(key) {\n",
              "          const element = document.querySelector('#df-74c456d3-6e2b-440a-b1e2-272955457a26');\n",
              "          const dataTable =\n",
              "            await google.colab.kernel.invokeFunction('convertToInteractive',\n",
              "                                                     [key], {});\n",
              "          if (!dataTable) return;\n",
              "\n",
              "          const docLinkHtml = 'Like what you see? Visit the ' +\n",
              "            '<a target=\"_blank\" href=https://colab.research.google.com/notebooks/data_table.ipynb>data table notebook</a>'\n",
              "            + ' to learn more about interactive tables.';\n",
              "          element.innerHTML = '';\n",
              "          dataTable['output_type'] = 'display_data';\n",
              "          await google.colab.output.renderOutput(dataTable, element);\n",
              "          const docLink = document.createElement('div');\n",
              "          docLink.innerHTML = docLinkHtml;\n",
              "          element.appendChild(docLink);\n",
              "        }\n",
              "      </script>\n",
              "    </div>\n",
              "  </div>\n",
              "  "
            ],
            "text/plain": [
              "       Tanggal   Target  Vaksinasi1  Vaksinasi2\n",
              "118 2021-07-01  8815157     4498251     1924850\n",
              "119 2021-07-02  8815157     4604297     1929114\n",
              "120 2021-07-03  8815157     4682012     1931805\n",
              "121 2021-07-04  8815157     4800657     1935269\n",
              "122 2021-07-05  8815157     4827994     1935857\n",
              "..         ...      ...         ...         ...\n",
              "266 2021-11-26  8941211    11084245     8957716\n",
              "267 2021-11-27  8941211    11089856     8967417\n",
              "268 2021-11-28  8941211    11091875     8987124\n",
              "269 2021-11-29  8941211    11093387     8992130\n",
              "270 2021-11-30  8941211    11100361     9014917\n",
              "\n",
              "[153 rows x 4 columns]"
            ]
          },
          "metadata": {},
          "execution_count": 203
        }
      ],
      "source": [
        "df= pd.read_excel('/content/Daily_vaksinasi.xlsx', parse_dates=['Tanggal'])\n",
        "df=df.loc[118:270, ['Tanggal','Target Vaksinasi.3','Vaksinasi 1.3','Vaksinasi 2.3']]\n",
        "df = df.rename(columns={'Target Vaksinasi.3': 'Target', 'Vaksinasi 1.3': 'Vaksinasi1', 'Vaksinasi 2.3': 'Vaksinasi2'})\n",
        "#df.set_index('Tanggal', inplace=True)\n",
        "df"
      ]
    },
    {
      "cell_type": "code",
      "source": [
        "df.isna().sum()"
      ],
      "metadata": {
        "id": "9Vic8HH74jWk",
        "outputId": "41d35eb7-8fc8-4c01-ac8e-1689fd984bfd",
        "colab": {
          "base_uri": "https://localhost:8080/"
        }
      },
      "id": "9Vic8HH74jWk",
      "execution_count": 204,
      "outputs": [
        {
          "output_type": "execute_result",
          "data": {
            "text/plain": [
              "Tanggal       0\n",
              "Target        0\n",
              "Vaksinasi1    0\n",
              "Vaksinasi2    0\n",
              "dtype: int64"
            ]
          },
          "metadata": {},
          "execution_count": 204
        }
      ]
    },
    {
      "cell_type": "code",
      "source": [
        "df.describe()"
      ],
      "metadata": {
        "id": "tPQbJbtk8Jpf",
        "outputId": "e8944880-1607-4058-c70f-1d0bcde024e7",
        "colab": {
          "base_uri": "https://localhost:8080/",
          "height": 300
        }
      },
      "id": "tPQbJbtk8Jpf",
      "execution_count": 205,
      "outputs": [
        {
          "output_type": "execute_result",
          "data": {
            "text/html": [
              "\n",
              "  <div id=\"df-6fd512c7-eba6-416b-b2ec-71d0e6df4089\">\n",
              "    <div class=\"colab-df-container\">\n",
              "      <div>\n",
              "<style scoped>\n",
              "    .dataframe tbody tr th:only-of-type {\n",
              "        vertical-align: middle;\n",
              "    }\n",
              "\n",
              "    .dataframe tbody tr th {\n",
              "        vertical-align: top;\n",
              "    }\n",
              "\n",
              "    .dataframe thead th {\n",
              "        text-align: right;\n",
              "    }\n",
              "</style>\n",
              "<table border=\"1\" class=\"dataframe\">\n",
              "  <thead>\n",
              "    <tr style=\"text-align: right;\">\n",
              "      <th></th>\n",
              "      <th>Target</th>\n",
              "      <th>Vaksinasi1</th>\n",
              "      <th>Vaksinasi2</th>\n",
              "    </tr>\n",
              "  </thead>\n",
              "  <tbody>\n",
              "    <tr>\n",
              "      <th>count</th>\n",
              "      <td>1.530000e+02</td>\n",
              "      <td>1.530000e+02</td>\n",
              "      <td>1.530000e+02</td>\n",
              "    </tr>\n",
              "    <tr>\n",
              "      <th>mean</th>\n",
              "      <td>8.909903e+06</td>\n",
              "      <td>9.348219e+06</td>\n",
              "      <td>5.997830e+06</td>\n",
              "    </tr>\n",
              "    <tr>\n",
              "      <th>std</th>\n",
              "      <td>5.464241e+04</td>\n",
              "      <td>1.885768e+06</td>\n",
              "      <td>2.566139e+06</td>\n",
              "    </tr>\n",
              "    <tr>\n",
              "      <th>min</th>\n",
              "      <td>8.815157e+06</td>\n",
              "      <td>4.498251e+06</td>\n",
              "      <td>1.924850e+06</td>\n",
              "    </tr>\n",
              "    <tr>\n",
              "      <th>25%</th>\n",
              "      <td>8.941211e+06</td>\n",
              "      <td>8.371190e+06</td>\n",
              "      <td>3.415964e+06</td>\n",
              "    </tr>\n",
              "    <tr>\n",
              "      <th>50%</th>\n",
              "      <td>8.941211e+06</td>\n",
              "      <td>1.014367e+07</td>\n",
              "      <td>7.115084e+06</td>\n",
              "    </tr>\n",
              "    <tr>\n",
              "      <th>75%</th>\n",
              "      <td>8.941211e+06</td>\n",
              "      <td>1.081919e+07</td>\n",
              "      <td>8.245279e+06</td>\n",
              "    </tr>\n",
              "    <tr>\n",
              "      <th>max</th>\n",
              "      <td>8.941211e+06</td>\n",
              "      <td>1.110036e+07</td>\n",
              "      <td>9.014917e+06</td>\n",
              "    </tr>\n",
              "  </tbody>\n",
              "</table>\n",
              "</div>\n",
              "      <button class=\"colab-df-convert\" onclick=\"convertToInteractive('df-6fd512c7-eba6-416b-b2ec-71d0e6df4089')\"\n",
              "              title=\"Convert this dataframe to an interactive table.\"\n",
              "              style=\"display:none;\">\n",
              "        \n",
              "  <svg xmlns=\"http://www.w3.org/2000/svg\" height=\"24px\"viewBox=\"0 0 24 24\"\n",
              "       width=\"24px\">\n",
              "    <path d=\"M0 0h24v24H0V0z\" fill=\"none\"/>\n",
              "    <path d=\"M18.56 5.44l.94 2.06.94-2.06 2.06-.94-2.06-.94-.94-2.06-.94 2.06-2.06.94zm-11 1L8.5 8.5l.94-2.06 2.06-.94-2.06-.94L8.5 2.5l-.94 2.06-2.06.94zm10 10l.94 2.06.94-2.06 2.06-.94-2.06-.94-.94-2.06-.94 2.06-2.06.94z\"/><path d=\"M17.41 7.96l-1.37-1.37c-.4-.4-.92-.59-1.43-.59-.52 0-1.04.2-1.43.59L10.3 9.45l-7.72 7.72c-.78.78-.78 2.05 0 2.83L4 21.41c.39.39.9.59 1.41.59.51 0 1.02-.2 1.41-.59l7.78-7.78 2.81-2.81c.8-.78.8-2.07 0-2.86zM5.41 20L4 18.59l7.72-7.72 1.47 1.35L5.41 20z\"/>\n",
              "  </svg>\n",
              "      </button>\n",
              "      \n",
              "  <style>\n",
              "    .colab-df-container {\n",
              "      display:flex;\n",
              "      flex-wrap:wrap;\n",
              "      gap: 12px;\n",
              "    }\n",
              "\n",
              "    .colab-df-convert {\n",
              "      background-color: #E8F0FE;\n",
              "      border: none;\n",
              "      border-radius: 50%;\n",
              "      cursor: pointer;\n",
              "      display: none;\n",
              "      fill: #1967D2;\n",
              "      height: 32px;\n",
              "      padding: 0 0 0 0;\n",
              "      width: 32px;\n",
              "    }\n",
              "\n",
              "    .colab-df-convert:hover {\n",
              "      background-color: #E2EBFA;\n",
              "      box-shadow: 0px 1px 2px rgba(60, 64, 67, 0.3), 0px 1px 3px 1px rgba(60, 64, 67, 0.15);\n",
              "      fill: #174EA6;\n",
              "    }\n",
              "\n",
              "    [theme=dark] .colab-df-convert {\n",
              "      background-color: #3B4455;\n",
              "      fill: #D2E3FC;\n",
              "    }\n",
              "\n",
              "    [theme=dark] .colab-df-convert:hover {\n",
              "      background-color: #434B5C;\n",
              "      box-shadow: 0px 1px 3px 1px rgba(0, 0, 0, 0.15);\n",
              "      filter: drop-shadow(0px 1px 2px rgba(0, 0, 0, 0.3));\n",
              "      fill: #FFFFFF;\n",
              "    }\n",
              "  </style>\n",
              "\n",
              "      <script>\n",
              "        const buttonEl =\n",
              "          document.querySelector('#df-6fd512c7-eba6-416b-b2ec-71d0e6df4089 button.colab-df-convert');\n",
              "        buttonEl.style.display =\n",
              "          google.colab.kernel.accessAllowed ? 'block' : 'none';\n",
              "\n",
              "        async function convertToInteractive(key) {\n",
              "          const element = document.querySelector('#df-6fd512c7-eba6-416b-b2ec-71d0e6df4089');\n",
              "          const dataTable =\n",
              "            await google.colab.kernel.invokeFunction('convertToInteractive',\n",
              "                                                     [key], {});\n",
              "          if (!dataTable) return;\n",
              "\n",
              "          const docLinkHtml = 'Like what you see? Visit the ' +\n",
              "            '<a target=\"_blank\" href=https://colab.research.google.com/notebooks/data_table.ipynb>data table notebook</a>'\n",
              "            + ' to learn more about interactive tables.';\n",
              "          element.innerHTML = '';\n",
              "          dataTable['output_type'] = 'display_data';\n",
              "          await google.colab.output.renderOutput(dataTable, element);\n",
              "          const docLink = document.createElement('div');\n",
              "          docLink.innerHTML = docLinkHtml;\n",
              "          element.appendChild(docLink);\n",
              "        }\n",
              "      </script>\n",
              "    </div>\n",
              "  </div>\n",
              "  "
            ],
            "text/plain": [
              "             Target    Vaksinasi1    Vaksinasi2\n",
              "count  1.530000e+02  1.530000e+02  1.530000e+02\n",
              "mean   8.909903e+06  9.348219e+06  5.997830e+06\n",
              "std    5.464241e+04  1.885768e+06  2.566139e+06\n",
              "min    8.815157e+06  4.498251e+06  1.924850e+06\n",
              "25%    8.941211e+06  8.371190e+06  3.415964e+06\n",
              "50%    8.941211e+06  1.014367e+07  7.115084e+06\n",
              "75%    8.941211e+06  1.081919e+07  8.245279e+06\n",
              "max    8.941211e+06  1.110036e+07  9.014917e+06"
            ]
          },
          "metadata": {},
          "execution_count": 205
        }
      ]
    },
    {
      "cell_type": "code",
      "source": [
        "df.info()\n"
      ],
      "metadata": {
        "id": "l164aljI40fP",
        "outputId": "f950cd40-9d10-40a0-f924-3ed95a519356",
        "colab": {
          "base_uri": "https://localhost:8080/"
        }
      },
      "id": "l164aljI40fP",
      "execution_count": 206,
      "outputs": [
        {
          "output_type": "stream",
          "name": "stdout",
          "text": [
            "<class 'pandas.core.frame.DataFrame'>\n",
            "RangeIndex: 153 entries, 118 to 270\n",
            "Data columns (total 4 columns):\n",
            " #   Column      Non-Null Count  Dtype         \n",
            "---  ------      --------------  -----         \n",
            " 0   Tanggal     153 non-null    datetime64[ns]\n",
            " 1   Target      153 non-null    int64         \n",
            " 2   Vaksinasi1  153 non-null    int64         \n",
            " 3   Vaksinasi2  153 non-null    int64         \n",
            "dtypes: datetime64[ns](1), int64(3)\n",
            "memory usage: 4.9 KB\n"
          ]
        }
      ]
    },
    {
      "cell_type": "markdown",
      "source": [
        "## Outliers"
      ],
      "metadata": {
        "id": "DwYQXz59483Q"
      },
      "id": "DwYQXz59483Q"
    },
    {
      "cell_type": "code",
      "source": [
        "def detect_outliers(df, x):\n",
        "    Q1 = df[x].describe()['25%']\n",
        "    Q3 = df[x].describe()['75%']\n",
        "    IQR = Q3-Q1\n",
        "    return df[(df[x] < Q1-1.5*IQR) | (df[x] > Q3+1.5*IQR)]"
      ],
      "metadata": {
        "id": "bIg4qfAI46kB"
      },
      "id": "bIg4qfAI46kB",
      "execution_count": 207,
      "outputs": []
    },
    {
      "cell_type": "code",
      "source": [
        "plt.figure(figsize = (10, 5))\n",
        "sns.boxplot(df['Vaksinasi1'])\n",
        "plt.annotate('Outlier', (df['Vaksinasi1'].describe()['max'],0.1), xytext = (df['Vaksinasi1'].describe()['max'],0.3),\n",
        "             arrowprops = dict(facecolor = 'blue'), fontsize = 13 )\n",
        "IQR = df['Vaksinasi1'].describe()['75%'] - df['Vaksinasi1'].describe()['25%']"
      ],
      "metadata": {
        "id": "zZq8QWkY5Nds",
        "outputId": "df9b29ae-35ce-4bd9-83f5-3500d43a002e",
        "colab": {
          "base_uri": "https://localhost:8080/",
          "height": 334
        }
      },
      "id": "zZq8QWkY5Nds",
      "execution_count": 208,
      "outputs": [
        {
          "output_type": "display_data",
          "data": {
            "image/png": "[encoded data removed]",
            "text/plain": [
              "<Figure size 720x360 with 1 Axes>"
            ]
          },
          "metadata": {
            "needs_background": "light"
          }
        }
      ]
    },
    {
      "cell_type": "code",
      "source": [
        "plt.figure(figsize = (10, 5))\n",
        "sns.boxplot(df['Vaksinasi2'])\n",
        "plt.annotate('Outlier', (df['Vaksinasi2'].describe()['max'],0.1), xytext = (df['Vaksinasi2'].describe()['max'],0.3),\n",
        "             arrowprops = dict(facecolor = 'blue'), fontsize = 13 )\n",
        "IQR = df['Vaksinasi2'].describe()['75%'] - df['Vaksinasi2'].describe()['25%']"
      ],
      "metadata": {
        "id": "2i7cczMX6Agd",
        "outputId": "5b17f0db-621f-4abb-df9c-d94fd98cd390",
        "colab": {
          "base_uri": "https://localhost:8080/",
          "height": 334
        }
      },
      "id": "2i7cczMX6Agd",
      "execution_count": 209,
      "outputs": [
        {
          "output_type": "display_data",
          "data": {
            "image/png": "[encoded data removed]",
            "text/plain": [
              "<Figure size 720x360 with 1 Axes>"
            ]
          },
          "metadata": {
            "needs_background": "light"
          }
        }
      ]
    },
    {
      "cell_type": "code",
      "source": [
        "plt.figure(figsize=(16,10))\n",
        "sns.lineplot(data=df, x=\"Tanggal\", y=\"Vaksinasi1\")\n",
        "#plt.plot('Tanggal','Vaksinasi1', data=df, color='tab:red')"
      ],
      "metadata": {
        "id": "yX8mrQ8m8ye-",
        "outputId": "d2657b7f-aa81-4d69-ff53-50b3b25ba828",
        "colab": {
          "base_uri": "https://localhost:8080/",
          "height": 633
        }
      },
      "id": "yX8mrQ8m8ye-",
      "execution_count": 210,
      "outputs": [
        {
          "output_type": "execute_result",
          "data": {
            "text/plain": [
              "<matplotlib.axes._subplots.AxesSubplot at 0x7fbe4ca70b10>"
            ]
          },
          "metadata": {},
          "execution_count": 210
        },
        {
          "output_type": "display_data",
          "data": {
            "image/png": "[encoded data removed]",
            "text/plain": [
              "<Figure size 1152x720 with 1 Axes>"
            ]
          },
          "metadata": {
            "needs_background": "light"
          }
        }
      ]
    },
    {
      "cell_type": "code",
      "source": [
        "y= df['Vaksinasi1'].values.reshape(-1,1)\n",
        "X= df[['Target']].values.reshape(-1,1)"
      ],
      "metadata": {
        "id": "SYXvehWAAZpp"
      },
      "id": "SYXvehWAAZpp",
      "execution_count": 211,
      "outputs": []
    },
    {
      "cell_type": "code",
      "source": [
        "X_train,X_test,y_train,y_test=train_test_split(X,y,random_state=43,test_size=.3)"
      ],
      "metadata": {
        "id": "8cscsglCAtwd"
      },
      "id": "8cscsglCAtwd",
      "execution_count": 212,
      "outputs": []
    },
    {
      "cell_type": "code",
      "source": [
        "X_train.shape"
      ],
      "metadata": {
        "id": "gT5q41fgAuQ5",
        "outputId": "aec54f4b-eb00-48af-bc27-87ed19e8144e",
        "colab": {
          "base_uri": "https://localhost:8080/"
        }
      },
      "id": "gT5q41fgAuQ5",
      "execution_count": 213,
      "outputs": [
        {
          "output_type": "execute_result",
          "data": {
            "text/plain": [
              "(107, 1)"
            ]
          },
          "metadata": {},
          "execution_count": 213
        }
      ]
    },
    {
      "cell_type": "code",
      "source": [
        "X_test.shape"
      ],
      "metadata": {
        "id": "Jxm_MzyEAv_J",
        "outputId": "4df6a832-dbbe-4c45-dc79-eac60cfcc71c",
        "colab": {
          "base_uri": "https://localhost:8080/"
        }
      },
      "id": "Jxm_MzyEAv_J",
      "execution_count": 214,
      "outputs": [
        {
          "output_type": "execute_result",
          "data": {
            "text/plain": [
              "(46, 1)"
            ]
          },
          "metadata": {},
          "execution_count": 214
        }
      ]
    },
    {
      "cell_type": "code",
      "source": [
        "standardscaler=StandardScaler()\n",
        "X_train=standardscaler.fit_transform(X_train)"
      ],
      "metadata": {
        "id": "SbOR4DQ6A1k_"
      },
      "id": "SbOR4DQ6A1k_",
      "execution_count": 215,
      "outputs": []
    },
    {
      "cell_type": "code",
      "source": [
        "X_test=standardscaler.transform(X_test)"
      ],
      "metadata": {
        "id": "NqBRHpk9A6us"
      },
      "id": "NqBRHpk9A6us",
      "execution_count": 216,
      "outputs": []
    },
    {
      "cell_type": "code",
      "source": [
        "model=AdaBoostRegressor()\n",
        "model.fit(X_train,y_train)"
      ],
      "metadata": {
        "id": "xvVr41qCA7HD",
        "outputId": "60d9cbe8-d0a0-420f-b0ee-eb77e8fc9b1f",
        "colab": {
          "base_uri": "https://localhost:8080/"
        }
      },
      "id": "xvVr41qCA7HD",
      "execution_count": 217,
      "outputs": [
        {
          "output_type": "execute_result",
          "data": {
            "text/plain": [
              "AdaBoostRegressor()"
            ]
          },
          "metadata": {},
          "execution_count": 217
        }
      ]
    },
    {
      "cell_type": "code",
      "source": [
        "model.score(X_test,y_test)"
      ],
      "metadata": {
        "id": "uYYfdvNiB03K",
        "outputId": "5a71dd8a-8fd2-4f0c-ff6b-0cca32dc75b8",
        "colab": {
          "base_uri": "https://localhost:8080/"
        }
      },
      "id": "uYYfdvNiB03K",
      "execution_count": 218,
      "outputs": [
        {
          "output_type": "execute_result",
          "data": {
            "text/plain": [
              "0.8204121384466656"
            ]
          },
          "metadata": {},
          "execution_count": 218
        }
      ]
    },
    {
      "cell_type": "code",
      "source": [
        "print('Correlation: ', math.sqrt(model.score(X_test,y_test)))"
      ],
      "metadata": {
        "id": "iAzndDp4CbaS",
        "outputId": "a7b9f481-5ebc-4ec1-df3b-1978f608b259",
        "colab": {
          "base_uri": "https://localhost:8080/"
        }
      },
      "id": "iAzndDp4CbaS",
      "execution_count": 219,
      "outputs": [
        {
          "output_type": "stream",
          "name": "stdout",
          "text": [
            "Correlation:  0.9057660506149839\n"
          ]
        }
      ]
    },
    {
      "cell_type": "code",
      "source": [
        "y_prediksi = model.predict(X_test)"
      ],
      "metadata": {
        "id": "0WZGiiuSFTzR"
      },
      "id": "0WZGiiuSFTzR",
      "execution_count": 221,
      "outputs": []
    },
    {
      "cell_type": "code",
      "source": [
        "print('Mean Absolute Error (MAE):', metrics.mean_absolute_error(y_test,y_prediksi)) \n",
        "print('Root Mean Squared Error (RMSE):', np.sqrt(metrics.mean_squared_error(y_test,y_prediksi))) "
      ],
      "metadata": {
        "id": "_ta7QR2oCerO",
        "outputId": "0ff71577-5925-4c6e-f69e-116eea414273",
        "colab": {
          "base_uri": "https://localhost:8080/"
        }
      },
      "id": "_ta7QR2oCerO",
      "execution_count": 222,
      "outputs": [
        {
          "output_type": "stream",
          "name": "stdout",
          "text": [
            "Mean Absolute Error (MAE): 663424.2109500807\n",
            "Root Mean Squared Error (RMSE): 862870.5766274539\n"
          ]
        }
      ]
    },
    {
      "cell_type": "code",
      "source": [
        ""
      ],
      "metadata": {
        "id": "5ZWcvR6NFQyy"
      },
      "id": "5ZWcvR6NFQyy",
      "execution_count": null,
      "outputs": []
    }
  ],
  "metadata": {
    "kernelspec": {
      "display_name": "Python 3 (ipykernel)",
      "language": "python",
      "name": "python3"
    },
    "language_info": {
      "codemirror_mode": {
        "name": "ipython",
        "version": 3
      },
      "file_extension": ".py",
      "mimetype": "text/x-python",
      "name": "python",
      "nbconvert_exporter": "python",
      "pygments_lexer": "ipython3",
      "version": "3.7.3"
    },
    "colab": {
      "name": "Ulang.ipynb",
      "provenance": []
    }
  },
  "nbformat": 4,
  "nbformat_minor": 5
}