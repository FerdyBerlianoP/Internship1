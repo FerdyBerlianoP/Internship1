{
 "cells": [
  {
   "cell_type": "markdown",
   "id": "30486209",
   "metadata": {},
   "source": [
    "# outliers with std"
   ]
  },
  {
   "cell_type": "code",
   "execution_count": null,
   "id": "5ce0ae68",
   "metadata": {},
   "outputs": [],
   "source": [
    "fig, ax=plt.subplots(figsize=(12,8))\n",
    "ax.hist(df['JUMLAH\\nDOSIS 1'],bins=100)\n",
    "plt.show()"
   ]
  },
  {
   "cell_type": "code",
   "execution_count": null,
   "id": "931801f2",
   "metadata": {},
   "outputs": [],
   "source": [
    "mean = df['JUMLAH\\nDOSIS 1'].mean()\n",
    "std = df['JUMLAH\\nDOSIS 1'].std()"
   ]
  },
  {
   "cell_type": "code",
   "execution_count": null,
   "id": "a3d12309",
   "metadata": {},
   "outputs": [],
   "source": [
    "limit = 3*std\n",
    "limit_atas = mean + 3*std\n",
    "limit_bawah =mean - 3*std"
   ]
  },
  {
   "cell_type": "code",
   "execution_count": null,
   "id": "e9489b01",
   "metadata": {},
   "outputs": [],
   "source": [
    "fig, ax=plt.subplots(figsize=(12,8))\n",
    "ax.hist(df['JUMLAH\\nDOSIS 1'],bins=100)\n",
    "ax.axvline(limit_atas,color='r')\n",
    "ax.axvline(limit_bawah,color='r')\n",
    "plt.show()"
   ]
  },
  {
   "cell_type": "code",
   "execution_count": null,
   "id": "c9768921",
   "metadata": {},
   "outputs": [],
   "source": [
    "(df['JUMLAH\\nDOSIS 1']<limit_bawah).sum()"
   ]
  },
  {
   "cell_type": "code",
   "execution_count": null,
   "id": "42aff930",
   "metadata": {},
   "outputs": [],
   "source": [
    "(df['JUMLAH\\nDOSIS 1']>limit_atas).sum()"
   ]
  },
  {
   "cell_type": "code",
   "execution_count": null,
   "id": "9ea2e2f1",
   "metadata": {},
   "outputs": [],
   "source": [
    "new=df[(df['JUMLAH\\nDOSIS 1']>limit_bawah) & (df['JUMLAH\\nDOSIS 1']<limit_atas)]\n",
    "new"
   ]
  },
  {
   "cell_type": "code",
   "execution_count": null,
   "id": "a27251a9",
   "metadata": {},
   "outputs": [],
   "source": []
  }
 ],
 "metadata": {
  "kernelspec": {
   "display_name": "Python 3 (ipykernel)",
   "language": "python",
   "name": "python3"
  },
  "language_info": {
   "codemirror_mode": {
    "name": "ipython",
    "version": 3
   },
   "file_extension": ".py",
   "mimetype": "text/x-python",
   "name": "python",
   "nbconvert_exporter": "python",
   "pygments_lexer": "ipython3",
   "version": "3.7.3"
  }
 },
 "nbformat": 4,
 "nbformat_minor": 5
}
